{
 "cells": [
  {
   "cell_type": "code",
   "execution_count": 1,
   "id": "e6900d0ff1e4f89",
   "metadata": {
    "ExecuteTime": {
     "end_time": "2024-10-07T10:28:09.198171Z",
     "start_time": "2024-10-07T10:28:07.998558Z"
    }
   },
   "outputs": [],
   "source": [
    "import numpy as np\n",
    "from sklearn.model_selection import train_test_split\n",
    "from sklearn.tree import DecisionTreeClassifier\n",
    "from sklearn.metrics import accuracy_score"
   ]
  },
  {
   "cell_type": "code",
   "execution_count": 2,
   "id": "ab40702dd6e3365f",
   "metadata": {
    "ExecuteTime": {
     "end_time": "2024-10-07T10:28:09.212117Z",
     "start_time": "2024-10-07T10:28:09.202793Z"
    }
   },
   "outputs": [],
   "source": [
    "\n",
    "def load_data(file_names):\n",
    "    data = []\n",
    "    labels = []\n",
    "    for i, file_name in enumerate(file_names):\n",
    "        file_data = np.load(file_name)\n",
    "        data.append(file_data)\n",
    "        labels.extend([i] * len(file_data))\n",
    "    return np.concatenate(data, axis=0), np.array(labels)"
   ]
  },
  {
   "cell_type": "code",
   "execution_count": null,
   "id": "460df11b612af901",
   "metadata": {
    "ExecuteTime": {
     "start_time": "2024-10-07T10:28:09.217189Z"
    },
    "jupyter": {
     "is_executing": true
    }
   },
   "outputs": [],
   "source": [
    "file_names = [ 'car.npy', 'bat.npy', 'bread.npy', 'alarm clock.npy']\n",
    "\n",
    "X, y = load_data(file_names)\n",
    "\n",
    "X = X.reshape(X.shape[0], -1)\n",
    "\n",
    "X_train, X_test, y_train, y_test = train_test_split(X, y, test_size=0.2, random_state=42)\n",
    "\n",
    "clf = DecisionTreeClassifier()\n",
    "clf.fit(X_train, y_train)"
   ]
  },
  {
   "cell_type": "code",
   "execution_count": 5,
   "id": "initial_id",
   "metadata": {
    "ExecuteTime": {
     "end_time": "2024-10-06T17:15:14.572599Z",
     "start_time": "2024-10-06T17:15:14.117846Z"
    },
    "collapsed": true
   },
   "outputs": [
    {
     "name": "stdout",
     "output_type": "stream",
     "text": [
      "Accuracy: 87.94%\n",
      "Predicted: object1, Actual: object1\n",
      "Predicted: object4, Actual: object4\n",
      "Predicted: object4, Actual: object4\n",
      "Predicted: object4, Actual: object4\n",
      "Predicted: object1, Actual: object1\n",
      "Predicted: object1, Actual: object1\n",
      "Predicted: object1, Actual: object1\n",
      "Predicted: object3, Actual: object1\n",
      "Predicted: object4, Actual: object4\n",
      "Predicted: object2, Actual: object2\n"
     ]
    }
   ],
   "source": [
    "y_pred = clf.predict(X_test)\n",
    "\n",
    "accuracy = accuracy_score(y_test, y_pred)\n",
    "print(f'Accuracy: {accuracy * 100:.2f}%')\n",
    "\n",
    "object_names = ['object1', 'object2', 'object3', 'object4', 'object5']\n",
    "predicted_objects = [object_names[label] for label in y_pred]\n",
    "\n",
    "for i in range(10):\n",
    "    print(f'Predicted: {predicted_objects[i]}, Actual: {object_names[y_test[i]]}')\n"
   ]
  },
  {
   "cell_type": "code",
   "execution_count": 6,
   "id": "b52efd34b2d6bb24",
   "metadata": {
    "ExecuteTime": {
     "end_time": "2024-10-06T17:16:26.378472Z",
     "start_time": "2024-10-06T17:16:23.764503Z"
    }
   },
   "outputs": [],
   "source": [
    "import m2cgen as m2c\n",
    "\n",
    "javascript_code = m2c.export_to_javascript(clf)\n",
    "\n",
    "with open('decision_tree_model.js', 'w') as f:\n",
    "    f.write(javascript_code)"
   ]
  },
  {
   "cell_type": "code",
   "execution_count": null,
   "id": "39f80593d43ee941",
   "metadata": {},
   "outputs": [],
   "source": []
  }
 ],
 "metadata": {
  "kernelspec": {
   "display_name": "Python 3",
   "language": "python",
   "name": "python3"
  },
  "language_info": {
   "codemirror_mode": {
    "name": "ipython",
    "version": 2
   },
   "file_extension": ".py",
   "mimetype": "text/x-python",
   "name": "python",
   "nbconvert_exporter": "python",
   "pygments_lexer": "ipython2",
   "version": "2.7.6"
  }
 },
 "nbformat": 4,
 "nbformat_minor": 5
}
